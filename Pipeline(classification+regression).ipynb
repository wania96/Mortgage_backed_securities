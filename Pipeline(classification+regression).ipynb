{
 "cells": [
  {
   "cell_type": "code",
   "execution_count": 15,
   "id": "e18e93b5",
   "metadata": {},
   "outputs": [
    {
     "name": "stdout",
     "output_type": "stream",
     "text": [
      "Select Prediction Type (Classification/Regression): Classification\n",
      "Enter DTI: 27\n",
      "Enter CreditRange: Poor\n",
      "Enter MSA: 16947\n",
      "Enter MIP: 25\n",
      "Enter OCLTV: 89\n",
      "Enter OrigUPB: 117000\n",
      "Enter PropertyState: IL\n",
      "Enter MonthsDelinquent: 0\n",
      "Enter LTV_Range: Very High\n",
      "Enter RepPayRange: 4-8\n",
      "Classification Prediction:\n",
      "[0]\n"
     ]
    }
   ],
   "source": [
    "import pickle\n",
    "import numpy as np\n",
    "import pandas as pd\n",
    "\n",
    "# Load the saved pipelines from the pickle files for classification and regression\n",
    "with open(r\"C:\\Users\\wania_96\\Desktop\\LoanExport\\classification_.pkl\", 'rb') as file:\n",
    "    classification_pipeline = pickle.load(file)\n",
    "\n",
    "with open(r\"C:\\Users\\wania_96\\Desktop\\LoanExport\\regression_.pkl\", 'rb') as file:\n",
    "    regression_pipeline = pickle.load(file)\n",
    "\n",
    "\n",
    "\n",
    "# Function to collect user input for classification and regression\n",
    "# Function to collect user input for classification and regression\n",
    "def get_input(prediction_type):\n",
    "    # Input for common features\n",
    "    common_features = [\"DTI\", \"CreditRange\"]\n",
    "\n",
    "    # Input for classification\n",
    "    classification_columns = [\"MSA\", \"MIP\", \"OCLTV\", \"OrigUPB\", \"PropertyState\", \"MonthsDelinquent\", \"LTV_Range\", \"RepPayRange\"]\n",
    "\n",
    "    # Input for regression\n",
    "    regression_columns = [\"PPM\", \"NumBorrowers\", \"ServicerName\", \"EverDelinquent\", \"IsFirstTimeHomebuyer\", \"monthly_income\"]\n",
    "\n",
    "    common_input = [input(f\"Enter {feature}: \") for feature in common_features]\n",
    "\n",
    "    if prediction_type == \"classification\":\n",
    "        # Input for classification\n",
    "        classification_input = [input(f\"Enter {col}: \") for col in classification_columns]\n",
    "\n",
    "        # Create DataFrame for classification input\n",
    "        data_classification = pd.DataFrame([common_input + classification_input], columns=common_features + classification_columns)\n",
    "        data_regression = None\n",
    "    else:\n",
    "        # Input for regression\n",
    "        regression_input = [input(f\"Enter {col}: \") for col in regression_columns]\n",
    "\n",
    "        # Create DataFrame for regression input\n",
    "        data_classification = None\n",
    "        data_regression = pd.DataFrame([common_input + regression_input], columns=common_features + regression_columns)\n",
    "\n",
    "    return data_classification, data_regression\n",
    "\n",
    "# Get user input for the prediction type\n",
    "prediction_type = input(\"Select Prediction Type (Classification/Regression): \")\n",
    "\n",
    "if prediction_type.lower() not in [\"classification\", \"regression\"]:\n",
    "    print(\"Invalid Prediction Type. Please choose 'Classification' or 'Regression'.\")\n",
    "else:\n",
    "    # Get user input for common features and for classification or regression\n",
    "    data_classification, data_regression = get_input(prediction_type.lower())\n",
    "\n",
    "    if prediction_type.lower() == \"classification\":\n",
    "        # Use the loaded classification pipeline to make predictions on the user input data\n",
    "        classification_predictions = classification_pipeline.predict(data_classification)\n",
    "\n",
    "        # Convert the predictions to 1-dimensional array\n",
    "        classification_predictions = classification_predictions.flatten()\n",
    "\n",
    "        # Display the classification prediction\n",
    "        print(\"Classification Prediction:\")\n",
    "        print(classification_predictions)\n",
    "\n",
    "        # Initialize regression_predictions with None\n",
    "        regression_predictions = None\n",
    "\n",
    "    else:\n",
    "        # Use the loaded regression pipeline to make predictions on the user input data\n",
    "        regression_predictions = regression_pipeline.predict(data_regression)\n",
    "\n",
    "        # Convert the predictions to 1-dimensional array\n",
    "        regression_predictions = regression_predictions.flatten()\n",
    "\n",
    "        # Display the regression prediction\n",
    "        print(\"Regression Prediction:\")\n",
    "        print(regression_predictions)\n",
    "\n",
    "        # Initialize classification_predictions with None\n",
    "        classification_predictions = None\n",
    "\n",
    "    # Combine the predictions from both models\n",
    "    combined_predictions = pd.DataFrame(data={\"Classification_Prediction_Defaulter\": classification_predictions,\n",
    "                                              \"Regression_Prediction_prepayment\": regression_predictions})\n",
    "\n",
    "    # Save the combined predictions as a pickle file\n",
    "    with open(\"combined_predictions.pkl\", 'wb') as file:\n",
    "        pickle.dump(combined_predictions, file)"
   ]
  },
  {
   "cell_type": "code",
   "execution_count": 14,
   "id": "9543a542",
   "metadata": {},
   "outputs": [
    {
     "data": {
      "text/plain": [
       "Classification_Prediction_Defaulter     int64\n",
       "Regression_Prediction_prepayment       object\n",
       "dtype: object"
      ]
     },
     "execution_count": 14,
     "metadata": {},
     "output_type": "execute_result"
    }
   ],
   "source": [
    "combined_predictions.dtypes"
   ]
  },
  {
   "cell_type": "code",
   "execution_count": 13,
   "id": "b20e38d7",
   "metadata": {},
   "outputs": [
    {
     "name": "stdout",
     "output_type": "stream",
     "text": [
      "   Classification_Prediction_Defaulter Regression_Prediction_prepayment\n",
      "0                                    0                             None\n"
     ]
    }
   ],
   "source": [
    "import pickle\n",
    "with open(\"combined_predictions.pkl\", 'rb') as file:\n",
    "    combined_predictions = pickle.load(file)\n",
    "\n",
    "print(combined_predictions)"
   ]
  },
  {
   "cell_type": "code",
   "execution_count": null,
   "id": "8e66778f",
   "metadata": {},
   "outputs": [],
   "source": []
  }
 ],
 "metadata": {
  "kernelspec": {
   "display_name": "Python 3 (ipykernel)",
   "language": "python",
   "name": "python3"
  },
  "language_info": {
   "codemirror_mode": {
    "name": "ipython",
    "version": 3
   },
   "file_extension": ".py",
   "mimetype": "text/x-python",
   "name": "python",
   "nbconvert_exporter": "python",
   "pygments_lexer": "ipython3",
   "version": "3.9.13"
  }
 },
 "nbformat": 4,
 "nbformat_minor": 5
}
