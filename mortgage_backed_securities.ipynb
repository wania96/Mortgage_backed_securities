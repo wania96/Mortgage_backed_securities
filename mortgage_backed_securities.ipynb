{
 "cells": [
  {
   "cell_type": "markdown",
   "id": "93fdc533",
   "metadata": {},
   "source": [
    "# MORTGAGE BACKED SECURITIES"
   ]
  },
  {
   "cell_type": "markdown",
   "id": "6c448a78",
   "metadata": {},
   "source": [
    "IMPORTING LIBRARIES"
   ]
  },
  {
   "cell_type": "code",
   "execution_count": 13,
   "id": "787a167d",
   "metadata": {},
   "outputs": [
    {
     "ename": "ImportError",
     "evalue": "DLL load failed while importing _path: The specified module could not be found.",
     "output_type": "error",
     "traceback": [
      "\u001b[1;31m---------------------------------------------------------------------------\u001b[0m",
      "\u001b[1;31mImportError\u001b[0m                               Traceback (most recent call last)",
      "\u001b[1;32m~\\AppData\\Local\\Temp\\ipykernel_5836\\3161715525.py\u001b[0m in \u001b[0;36m<module>\u001b[1;34m\u001b[0m\n\u001b[0;32m      3\u001b[0m \u001b[1;32mimport\u001b[0m \u001b[0mnumpy\u001b[0m \u001b[1;32mas\u001b[0m \u001b[0mnp\u001b[0m\u001b[1;33m\u001b[0m\u001b[1;33m\u001b[0m\u001b[0m\n\u001b[0;32m      4\u001b[0m \u001b[1;32mfrom\u001b[0m \u001b[0msklearn\u001b[0m\u001b[1;33m.\u001b[0m\u001b[0mpreprocessing\u001b[0m \u001b[1;32mimport\u001b[0m \u001b[0mMinMaxScaler\u001b[0m\u001b[1;33m\u001b[0m\u001b[1;33m\u001b[0m\u001b[0m\n\u001b[1;32m----> 5\u001b[1;33m \u001b[1;32mimport\u001b[0m \u001b[0mseaborn\u001b[0m \u001b[1;32mas\u001b[0m \u001b[0msns\u001b[0m\u001b[1;33m\u001b[0m\u001b[1;33m\u001b[0m\u001b[0m\n\u001b[0m\u001b[0;32m      6\u001b[0m \u001b[1;32mimport\u001b[0m \u001b[0mmatplotlib\u001b[0m\u001b[1;33m.\u001b[0m\u001b[0mpyplot\u001b[0m \u001b[1;32mas\u001b[0m \u001b[0mplt\u001b[0m\u001b[1;33m\u001b[0m\u001b[1;33m\u001b[0m\u001b[0m\n\u001b[0;32m      7\u001b[0m \u001b[1;32mfrom\u001b[0m \u001b[0msklearn\u001b[0m\u001b[1;33m.\u001b[0m\u001b[0mpreprocessing\u001b[0m \u001b[1;32mimport\u001b[0m \u001b[0mLabelEncoder\u001b[0m\u001b[1;33m\u001b[0m\u001b[1;33m\u001b[0m\u001b[0m\n",
      "\u001b[1;32m~\\anaconda3\\lib\\site-packages\\seaborn\\__init__.py\u001b[0m in \u001b[0;36m<module>\u001b[1;34m\u001b[0m\n\u001b[0;32m      1\u001b[0m \u001b[1;31m# Import seaborn objects\u001b[0m\u001b[1;33m\u001b[0m\u001b[1;33m\u001b[0m\u001b[0m\n\u001b[1;32m----> 2\u001b[1;33m \u001b[1;32mfrom\u001b[0m \u001b[1;33m.\u001b[0m\u001b[0mrcmod\u001b[0m \u001b[1;32mimport\u001b[0m \u001b[1;33m*\u001b[0m  \u001b[1;31m# noqa: F401,F403\u001b[0m\u001b[1;33m\u001b[0m\u001b[1;33m\u001b[0m\u001b[0m\n\u001b[0m\u001b[0;32m      3\u001b[0m \u001b[1;32mfrom\u001b[0m \u001b[1;33m.\u001b[0m\u001b[0mutils\u001b[0m \u001b[1;32mimport\u001b[0m \u001b[1;33m*\u001b[0m  \u001b[1;31m# noqa: F401,F403\u001b[0m\u001b[1;33m\u001b[0m\u001b[1;33m\u001b[0m\u001b[0m\n\u001b[0;32m      4\u001b[0m \u001b[1;32mfrom\u001b[0m \u001b[1;33m.\u001b[0m\u001b[0mpalettes\u001b[0m \u001b[1;32mimport\u001b[0m \u001b[1;33m*\u001b[0m  \u001b[1;31m# noqa: F401,F403\u001b[0m\u001b[1;33m\u001b[0m\u001b[1;33m\u001b[0m\u001b[0m\n\u001b[0;32m      5\u001b[0m \u001b[1;32mfrom\u001b[0m \u001b[1;33m.\u001b[0m\u001b[0mrelational\u001b[0m \u001b[1;32mimport\u001b[0m \u001b[1;33m*\u001b[0m  \u001b[1;31m# noqa: F401,F403\u001b[0m\u001b[1;33m\u001b[0m\u001b[1;33m\u001b[0m\u001b[0m\n",
      "\u001b[1;32m~\\anaconda3\\lib\\site-packages\\seaborn\\rcmod.py\u001b[0m in \u001b[0;36m<module>\u001b[1;34m\u001b[0m\n\u001b[0;32m      3\u001b[0m \u001b[1;32mimport\u001b[0m \u001b[0mfunctools\u001b[0m\u001b[1;33m\u001b[0m\u001b[1;33m\u001b[0m\u001b[0m\n\u001b[0;32m      4\u001b[0m \u001b[1;32mfrom\u001b[0m \u001b[0mdistutils\u001b[0m\u001b[1;33m.\u001b[0m\u001b[0mversion\u001b[0m \u001b[1;32mimport\u001b[0m \u001b[0mLooseVersion\u001b[0m\u001b[1;33m\u001b[0m\u001b[1;33m\u001b[0m\u001b[0m\n\u001b[1;32m----> 5\u001b[1;33m \u001b[1;32mimport\u001b[0m \u001b[0mmatplotlib\u001b[0m \u001b[1;32mas\u001b[0m \u001b[0mmpl\u001b[0m\u001b[1;33m\u001b[0m\u001b[1;33m\u001b[0m\u001b[0m\n\u001b[0m\u001b[0;32m      6\u001b[0m \u001b[1;32mfrom\u001b[0m \u001b[0mcycler\u001b[0m \u001b[1;32mimport\u001b[0m \u001b[0mcycler\u001b[0m\u001b[1;33m\u001b[0m\u001b[1;33m\u001b[0m\u001b[0m\n\u001b[0;32m      7\u001b[0m \u001b[1;32mfrom\u001b[0m \u001b[1;33m.\u001b[0m \u001b[1;32mimport\u001b[0m \u001b[0mpalettes\u001b[0m\u001b[1;33m\u001b[0m\u001b[1;33m\u001b[0m\u001b[0m\n",
      "\u001b[1;32m~\\anaconda3\\lib\\site-packages\\matplotlib\\__init__.py\u001b[0m in \u001b[0;36m<module>\u001b[1;34m\u001b[0m\n\u001b[0;32m    156\u001b[0m \u001b[1;31m# cbook must import matplotlib only within function\u001b[0m\u001b[1;33m\u001b[0m\u001b[1;33m\u001b[0m\u001b[0m\n\u001b[0;32m    157\u001b[0m \u001b[1;31m# definitions, so it is safe to import from it here.\u001b[0m\u001b[1;33m\u001b[0m\u001b[1;33m\u001b[0m\u001b[0m\n\u001b[1;32m--> 158\u001b[1;33m \u001b[1;32mfrom\u001b[0m \u001b[1;33m.\u001b[0m \u001b[1;32mimport\u001b[0m \u001b[0m_api\u001b[0m\u001b[1;33m,\u001b[0m \u001b[0m_version\u001b[0m\u001b[1;33m,\u001b[0m \u001b[0mcbook\u001b[0m\u001b[1;33m,\u001b[0m \u001b[0m_docstring\u001b[0m\u001b[1;33m,\u001b[0m \u001b[0mrcsetup\u001b[0m\u001b[1;33m\u001b[0m\u001b[1;33m\u001b[0m\u001b[0m\n\u001b[0m\u001b[0;32m    159\u001b[0m \u001b[1;32mfrom\u001b[0m \u001b[0mmatplotlib\u001b[0m\u001b[1;33m.\u001b[0m\u001b[0mcbook\u001b[0m \u001b[1;32mimport\u001b[0m \u001b[0msanitize_sequence\u001b[0m\u001b[1;33m\u001b[0m\u001b[1;33m\u001b[0m\u001b[0m\n\u001b[0;32m    160\u001b[0m \u001b[1;32mfrom\u001b[0m \u001b[0mmatplotlib\u001b[0m\u001b[1;33m.\u001b[0m\u001b[0m_api\u001b[0m \u001b[1;32mimport\u001b[0m \u001b[0mMatplotlibDeprecationWarning\u001b[0m\u001b[1;33m\u001b[0m\u001b[1;33m\u001b[0m\u001b[0m\n",
      "\u001b[1;32m~\\anaconda3\\lib\\site-packages\\matplotlib\\rcsetup.py\u001b[0m in \u001b[0;36m<module>\u001b[1;34m\u001b[0m\n\u001b[0;32m     25\u001b[0m \u001b[1;32mfrom\u001b[0m \u001b[0mmatplotlib\u001b[0m \u001b[1;32mimport\u001b[0m \u001b[0m_api\u001b[0m\u001b[1;33m,\u001b[0m \u001b[0mcbook\u001b[0m\u001b[1;33m\u001b[0m\u001b[1;33m\u001b[0m\u001b[0m\n\u001b[0;32m     26\u001b[0m \u001b[1;32mfrom\u001b[0m \u001b[0mmatplotlib\u001b[0m\u001b[1;33m.\u001b[0m\u001b[0mcbook\u001b[0m \u001b[1;32mimport\u001b[0m \u001b[0mls_mapper\u001b[0m\u001b[1;33m\u001b[0m\u001b[1;33m\u001b[0m\u001b[0m\n\u001b[1;32m---> 27\u001b[1;33m \u001b[1;32mfrom\u001b[0m \u001b[0mmatplotlib\u001b[0m\u001b[1;33m.\u001b[0m\u001b[0mcolors\u001b[0m \u001b[1;32mimport\u001b[0m \u001b[0mColormap\u001b[0m\u001b[1;33m,\u001b[0m \u001b[0mis_color_like\u001b[0m\u001b[1;33m\u001b[0m\u001b[1;33m\u001b[0m\u001b[0m\n\u001b[0m\u001b[0;32m     28\u001b[0m \u001b[1;32mfrom\u001b[0m \u001b[0mmatplotlib\u001b[0m\u001b[1;33m.\u001b[0m\u001b[0m_fontconfig_pattern\u001b[0m \u001b[1;32mimport\u001b[0m \u001b[0mparse_fontconfig_pattern\u001b[0m\u001b[1;33m\u001b[0m\u001b[1;33m\u001b[0m\u001b[0m\n\u001b[0;32m     29\u001b[0m \u001b[1;32mfrom\u001b[0m \u001b[0mmatplotlib\u001b[0m\u001b[1;33m.\u001b[0m\u001b[0m_enums\u001b[0m \u001b[1;32mimport\u001b[0m \u001b[0mJoinStyle\u001b[0m\u001b[1;33m,\u001b[0m \u001b[0mCapStyle\u001b[0m\u001b[1;33m\u001b[0m\u001b[1;33m\u001b[0m\u001b[0m\n",
      "\u001b[1;32m~\\anaconda3\\lib\\site-packages\\matplotlib\\colors.py\u001b[0m in \u001b[0;36m<module>\u001b[1;34m\u001b[0m\n\u001b[0;32m     54\u001b[0m \u001b[1;32mimport\u001b[0m \u001b[0mmatplotlib\u001b[0m \u001b[1;32mas\u001b[0m \u001b[0mmpl\u001b[0m\u001b[1;33m\u001b[0m\u001b[1;33m\u001b[0m\u001b[0m\n\u001b[0;32m     55\u001b[0m \u001b[1;32mimport\u001b[0m \u001b[0mnumpy\u001b[0m \u001b[1;32mas\u001b[0m \u001b[0mnp\u001b[0m\u001b[1;33m\u001b[0m\u001b[1;33m\u001b[0m\u001b[0m\n\u001b[1;32m---> 56\u001b[1;33m \u001b[1;32mfrom\u001b[0m \u001b[0mmatplotlib\u001b[0m \u001b[1;32mimport\u001b[0m \u001b[0m_api\u001b[0m\u001b[1;33m,\u001b[0m \u001b[0m_cm\u001b[0m\u001b[1;33m,\u001b[0m \u001b[0mcbook\u001b[0m\u001b[1;33m,\u001b[0m \u001b[0mscale\u001b[0m\u001b[1;33m\u001b[0m\u001b[1;33m\u001b[0m\u001b[0m\n\u001b[0m\u001b[0;32m     57\u001b[0m \u001b[1;32mfrom\u001b[0m \u001b[1;33m.\u001b[0m\u001b[0m_color_data\u001b[0m \u001b[1;32mimport\u001b[0m \u001b[0mBASE_COLORS\u001b[0m\u001b[1;33m,\u001b[0m \u001b[0mTABLEAU_COLORS\u001b[0m\u001b[1;33m,\u001b[0m \u001b[0mCSS4_COLORS\u001b[0m\u001b[1;33m,\u001b[0m \u001b[0mXKCD_COLORS\u001b[0m\u001b[1;33m\u001b[0m\u001b[1;33m\u001b[0m\u001b[0m\n\u001b[0;32m     58\u001b[0m \u001b[1;33m\u001b[0m\u001b[0m\n",
      "\u001b[1;32m~\\anaconda3\\lib\\site-packages\\matplotlib\\scale.py\u001b[0m in \u001b[0;36m<module>\u001b[1;34m\u001b[0m\n\u001b[0;32m     20\u001b[0m \u001b[1;32mimport\u001b[0m \u001b[0mmatplotlib\u001b[0m \u001b[1;32mas\u001b[0m \u001b[0mmpl\u001b[0m\u001b[1;33m\u001b[0m\u001b[1;33m\u001b[0m\u001b[0m\n\u001b[0;32m     21\u001b[0m \u001b[1;32mfrom\u001b[0m \u001b[0mmatplotlib\u001b[0m \u001b[1;32mimport\u001b[0m \u001b[0m_api\u001b[0m\u001b[1;33m,\u001b[0m \u001b[0m_docstring\u001b[0m\u001b[1;33m\u001b[0m\u001b[1;33m\u001b[0m\u001b[0m\n\u001b[1;32m---> 22\u001b[1;33m from matplotlib.ticker import (\n\u001b[0m\u001b[0;32m     23\u001b[0m     \u001b[0mNullFormatter\u001b[0m\u001b[1;33m,\u001b[0m \u001b[0mScalarFormatter\u001b[0m\u001b[1;33m,\u001b[0m \u001b[0mLogFormatterSciNotation\u001b[0m\u001b[1;33m,\u001b[0m \u001b[0mLogitFormatter\u001b[0m\u001b[1;33m,\u001b[0m\u001b[1;33m\u001b[0m\u001b[1;33m\u001b[0m\u001b[0m\n\u001b[0;32m     24\u001b[0m     \u001b[0mNullLocator\u001b[0m\u001b[1;33m,\u001b[0m \u001b[0mLogLocator\u001b[0m\u001b[1;33m,\u001b[0m \u001b[0mAutoLocator\u001b[0m\u001b[1;33m,\u001b[0m \u001b[0mAutoMinorLocator\u001b[0m\u001b[1;33m,\u001b[0m\u001b[1;33m\u001b[0m\u001b[1;33m\u001b[0m\u001b[0m\n",
      "\u001b[1;32m~\\anaconda3\\lib\\site-packages\\matplotlib\\ticker.py\u001b[0m in \u001b[0;36m<module>\u001b[1;34m\u001b[0m\n\u001b[0;32m    136\u001b[0m \u001b[1;32mimport\u001b[0m \u001b[0mmatplotlib\u001b[0m \u001b[1;32mas\u001b[0m \u001b[0mmpl\u001b[0m\u001b[1;33m\u001b[0m\u001b[1;33m\u001b[0m\u001b[0m\n\u001b[0;32m    137\u001b[0m \u001b[1;32mfrom\u001b[0m \u001b[0mmatplotlib\u001b[0m \u001b[1;32mimport\u001b[0m \u001b[0m_api\u001b[0m\u001b[1;33m,\u001b[0m \u001b[0mcbook\u001b[0m\u001b[1;33m\u001b[0m\u001b[1;33m\u001b[0m\u001b[0m\n\u001b[1;32m--> 138\u001b[1;33m \u001b[1;32mfrom\u001b[0m \u001b[0mmatplotlib\u001b[0m \u001b[1;32mimport\u001b[0m \u001b[0mtransforms\u001b[0m \u001b[1;32mas\u001b[0m \u001b[0mmtransforms\u001b[0m\u001b[1;33m\u001b[0m\u001b[1;33m\u001b[0m\u001b[0m\n\u001b[0m\u001b[0;32m    139\u001b[0m \u001b[1;33m\u001b[0m\u001b[0m\n\u001b[0;32m    140\u001b[0m \u001b[0m_log\u001b[0m \u001b[1;33m=\u001b[0m \u001b[0mlogging\u001b[0m\u001b[1;33m.\u001b[0m\u001b[0mgetLogger\u001b[0m\u001b[1;33m(\u001b[0m\u001b[0m__name__\u001b[0m\u001b[1;33m)\u001b[0m\u001b[1;33m\u001b[0m\u001b[1;33m\u001b[0m\u001b[0m\n",
      "\u001b[1;32m~\\anaconda3\\lib\\site-packages\\matplotlib\\transforms.py\u001b[0m in \u001b[0;36m<module>\u001b[1;34m\u001b[0m\n\u001b[0;32m     47\u001b[0m \u001b[1;33m\u001b[0m\u001b[0m\n\u001b[0;32m     48\u001b[0m \u001b[1;32mfrom\u001b[0m \u001b[0mmatplotlib\u001b[0m \u001b[1;32mimport\u001b[0m \u001b[0m_api\u001b[0m\u001b[1;33m\u001b[0m\u001b[1;33m\u001b[0m\u001b[0m\n\u001b[1;32m---> 49\u001b[1;33m from matplotlib._path import (\n\u001b[0m\u001b[0;32m     50\u001b[0m     affine_transform, count_bboxes_overlapping_bbox, update_path_extents)\n\u001b[0;32m     51\u001b[0m \u001b[1;32mfrom\u001b[0m \u001b[1;33m.\u001b[0m\u001b[0mpath\u001b[0m \u001b[1;32mimport\u001b[0m \u001b[0mPath\u001b[0m\u001b[1;33m\u001b[0m\u001b[1;33m\u001b[0m\u001b[0m\n",
      "\u001b[1;31mImportError\u001b[0m: DLL load failed while importing _path: The specified module could not be found."
     ]
    }
   ],
   "source": [
    "import pandas as pd\n",
    "import scipy\n",
    "import numpy as np\n",
    "from sklearn.preprocessing import MinMaxScaler\n",
    "import seaborn as sns\n",
    "import matplotlib.pyplot as plt\n",
    "from sklearn.preprocessing import LabelEncoder\n",
    "from sklearn.preprocessing import OrdinalEncoder\n",
    "from sklearn.feature_selection import SelectKBest\n",
    "from sklearn.feature_selection import chi2\n",
    "from sklearn.ensemble import ExtraTreesClassifier\n",
    "from sklearn import preprocessing\n",
    "from sklearn.preprocessing import MinMaxScaler\n",
    "from sklearn.preprocessing import StandardScaler\n",
    "from sklearn.linear_model import LogisticRegression\n",
    "from sklearn.model_selection import train_test_split\n",
    "from sklearn.metrics import classification_report\n",
    "from sklearn.metrics import accuracy_score, confusion_matrix, roc_auc_score, roc_curve\n",
    "from sklearn.decomposition import PCA\n",
    "from sklearn.ensemble import RandomForestClassifier\n",
    "import statsmodels.api as sm\n",
    "from statsmodels.stats.outliers_influence import variance_inflation_factor"
   ]
  },
  {
   "cell_type": "markdown",
   "id": "9a4859ed",
   "metadata": {},
   "source": [
    "LOADING DATA"
   ]
  },
  {
   "cell_type": "code",
   "execution_count": null,
   "id": "c0bdf71f",
   "metadata": {},
   "outputs": [],
   "source": [
    "df=pd.read_csv(r'C:\\Users\\wania_96\\Desktop\\LoanExport\\LoanExport.csv')"
   ]
  },
  {
   "cell_type": "code",
   "execution_count": null,
   "id": "dd642194",
   "metadata": {},
   "outputs": [],
   "source": [
    "df.head()"
   ]
  },
  {
   "cell_type": "markdown",
   "id": "b2219ba8",
   "metadata": {},
   "source": [
    "EDA"
   ]
  },
  {
   "cell_type": "code",
   "execution_count": null,
   "id": "f67f07b5",
   "metadata": {},
   "outputs": [],
   "source": [
    "df.describe()"
   ]
  },
  {
   "cell_type": "code",
   "execution_count": null,
   "id": "01787a9e",
   "metadata": {},
   "outputs": [],
   "source": [
    "df.info()"
   ]
  },
  {
   "cell_type": "code",
   "execution_count": null,
   "id": "2f709fed",
   "metadata": {},
   "outputs": [],
   "source": [
    "print(df.isnull().sum().sort_values(ascending=False),\"\\n\\n\",df.isnull().sum()/df.shape[0] *100)"
   ]
  },
  {
   "cell_type": "code",
   "execution_count": null,
   "id": "3b49b56c",
   "metadata": {},
   "outputs": [],
   "source": [
    "df['SellerName'].mode().values[0]"
   ]
  },
  {
   "cell_type": "code",
   "execution_count": null,
   "id": "e77c515f",
   "metadata": {},
   "outputs": [],
   "source": [
    "df['SellerName'] = df['SellerName'].fillna(df['SellerName'].dropna().mode().values[0])"
   ]
  },
  {
   "cell_type": "code",
   "execution_count": null,
   "id": "94efdf88",
   "metadata": {},
   "outputs": [],
   "source": [
    "df['SellerName'].isnull().sum()"
   ]
  },
  {
   "cell_type": "code",
   "execution_count": null,
   "id": "54183711",
   "metadata": {},
   "outputs": [],
   "source": [
    "df[\"MSA\"].unique()"
   ]
  },
  {
   "cell_type": "code",
   "execution_count": null,
   "id": "731ffaf2",
   "metadata": {},
   "outputs": [],
   "source": [
    "df[df[\"MSA\"]!='X    '][\"MSA\"].astype(str).astype(int)"
   ]
  },
  {
   "cell_type": "code",
   "execution_count": null,
   "id": "db236b77",
   "metadata": {},
   "outputs": [],
   "source": [
    "df[df[\"MSA\"]!='X    '][\"MSA\"].astype(str).astype(int).mean()"
   ]
  },
  {
   "cell_type": "code",
   "execution_count": null,
   "id": "c39dbc4e",
   "metadata": {},
   "outputs": [],
   "source": [
    "mean_msa=round(df[df[\"MSA\"]!='X    '][\"MSA\"].astype(str).astype(int).mean(),0)"
   ]
  },
  {
   "cell_type": "code",
   "execution_count": null,
   "id": "6e77013d",
   "metadata": {},
   "outputs": [],
   "source": [
    "mean_msa"
   ]
  },
  {
   "cell_type": "code",
   "execution_count": null,
   "id": "a48235b5",
   "metadata": {},
   "outputs": [],
   "source": [
    "df[\"MSA\"]= df[\"MSA\"].replace('X    ',mean_msa)"
   ]
  },
  {
   "cell_type": "code",
   "execution_count": null,
   "id": "558f9ea1",
   "metadata": {},
   "outputs": [],
   "source": [
    "df[\"MSA\"]=pd.to_numeric(df[\"MSA\"])"
   ]
  },
  {
   "cell_type": "code",
   "execution_count": null,
   "id": "c16b35d7",
   "metadata": {},
   "outputs": [],
   "source": [
    "df['Channel'].value_counts()"
   ]
  },
  {
   "cell_type": "code",
   "execution_count": null,
   "id": "003eb283",
   "metadata": {},
   "outputs": [],
   "source": [
    "df =  df[df[\"FirstTimeHomebuyer\"]!= 'X']"
   ]
  },
  {
   "cell_type": "code",
   "execution_count": null,
   "id": "7f903fc7",
   "metadata": {},
   "outputs": [],
   "source": [
    "df['PPM'].value_counts()"
   ]
  },
  {
   "cell_type": "code",
   "execution_count": null,
   "id": "5db7fe65",
   "metadata": {},
   "outputs": [],
   "source": [
    "df =df[df['PPM']!='X']"
   ]
  },
  {
   "cell_type": "code",
   "execution_count": null,
   "id": "52ea40c0",
   "metadata": {},
   "outputs": [],
   "source": [
    "df['PPM'].value_counts()"
   ]
  },
  {
   "cell_type": "code",
   "execution_count": null,
   "id": "30ae177f",
   "metadata": {},
   "outputs": [],
   "source": [
    "df.PropertyType.value_counts()"
   ]
  },
  {
   "cell_type": "code",
   "execution_count": null,
   "id": "25b1b87f",
   "metadata": {},
   "outputs": [],
   "source": [
    "df =df[df['PropertyType']!='X']"
   ]
  },
  {
   "cell_type": "code",
   "execution_count": null,
   "id": "c19cf51f",
   "metadata": {},
   "outputs": [],
   "source": [
    "df['NumBorrowers'] = pd.to_numeric(df['NumBorrowers'], errors='coerce').fillna(0).astype(int)"
   ]
  },
  {
   "cell_type": "code",
   "execution_count": null,
   "id": "241d3e84",
   "metadata": {},
   "outputs": [],
   "source": [
    "df = df[df['NumBorrowers']!= 0]"
   ]
  },
  {
   "cell_type": "code",
   "execution_count": null,
   "id": "28f155c0",
   "metadata": {},
   "outputs": [],
   "source": [
    "df.NumBorrowers.value_counts()"
   ]
  },
  {
   "cell_type": "code",
   "execution_count": null,
   "id": "4e4743e0",
   "metadata": {},
   "outputs": [],
   "source": [
    " df.select_dtypes('object')"
   ]
  },
  {
   "cell_type": "markdown",
   "id": "f177b7a1",
   "metadata": {},
   "source": [
    "LABELLING"
   ]
  },
  {
   "cell_type": "code",
   "execution_count": null,
   "id": "a4b79d4b",
   "metadata": {},
   "outputs": [],
   "source": [
    "df[\"aFirstTimeHomebuyer\"] = df['FirstTimeHomebuyer'].map({\"N\":0,\"Y\":1})\n",
    "df.head()"
   ]
  },
  {
   "cell_type": "code",
   "execution_count": null,
   "id": "47f0aef3",
   "metadata": {},
   "outputs": [],
   "source": [
    "df['LTV_Range'] = \"\"\n",
    "for index, value in df['LTV'].iteritems():\n",
    "    if value >= 0 and value < 25:\n",
    "        df.at[index, 'LTV_Range'] = 'Low'\n",
    "    elif value >= 25 and value < 50:\n",
    "        df.at[index, 'LTV_Range'] = 'Medium'\n",
    "    elif value >= 50 and value < 75:\n",
    "        df.at[index, 'LTV_Range'] = 'High'\n",
    "    elif value >= 75 and value <= 100:\n",
    "        df.at[index, 'LTV_Range'] = ' Very High'\n",
    "    else:\n",
    "        df.at[index, 'LTV_Range'] = 'Invalid value'"
   ]
  },
  {
   "cell_type": "code",
   "execution_count": null,
   "id": "aec09884",
   "metadata": {},
   "outputs": [],
   "source": [
    "df['LTV'].value_counts().index"
   ]
  },
  {
   "cell_type": "code",
   "execution_count": null,
   "id": "c970bdad",
   "metadata": {},
   "outputs": [],
   "source": [
    "df['DTI_Range'] = \"\"\n",
    "\n",
    "for index, value in df['DTI'].iteritems():\n",
    "    if value >= 0 and value < 25:\n",
    "        df.at[index, 'DTI_Range'] = 'Low'\n",
    "    elif value >= 25 and value < 50:\n",
    "        df.at[index, 'DTI_Range'] = 'Medium'\n",
    "    elif value >= 50 and value < 75:\n",
    "        df.at[index, 'DTI_Range'] = 'High'\n",
    "    elif value >= 75 and value < 100:\n",
    "        df.at[index, 'DTI_Range'] = ' Very High'\n",
    "    else:\n",
    "        df.at[index, 'DTI_Range'] = 'Invalid value'"
   ]
  },
  {
   "cell_type": "code",
   "execution_count": null,
   "id": "91328efa",
   "metadata": {},
   "outputs": [],
   "source": [
    "df['CreditRange'] = \"\"\n",
    "\n",
    "for index, value in df['CreditScore'].iteritems():\n",
    "    if value >= 0 and value < 650:\n",
    "        df.at[index, 'CreditRange'] = 'Poor'\n",
    "    elif value >= 650 and value < 700:\n",
    "        df.at[index, 'CreditRange'] = 'Fair'\n",
    "    elif value >= 700 and value < 750:\n",
    "        df.at[index, 'CreditRange'] = 'Good'\n",
    "    elif value >= 750 and value <= 900:\n",
    "        df.at[index, 'CreditRange'] = 'Excellent'\n",
    "    else:\n",
    "        df.at[index, 'CreditRange'] = 'Invalid value'"
   ]
  },
  {
   "cell_type": "code",
   "execution_count": null,
   "id": "9c8e9730",
   "metadata": {},
   "outputs": [],
   "source": [
    "df['MIP'].value_counts()"
   ]
  },
  {
   "cell_type": "code",
   "execution_count": null,
   "id": "5179fdd9",
   "metadata": {},
   "outputs": [],
   "source": [
    "df['MIP_Range'] = \"\"\n",
    "\n",
    "for index, value in df['MIP'].iteritems():\n",
    "    if value >= 0 and value < 25:\n",
    "        df.at[index, 'MIP_Range'] = 'Low'\n",
    "    elif value >= 25 and value < 50:\n",
    "        df.at[index, 'MIP_Range'] = 'Medium'\n",
    "    elif value >= 50 and value < 75:\n",
    "        df.at[index, 'MIP_Range'] = 'High'\n",
    "    else:\n",
    "        df.at[index, 'MIP_Range'] = 'Invalid value'"
   ]
  },
  {
   "cell_type": "code",
   "execution_count": null,
   "id": "48717bf4",
   "metadata": {},
   "outputs": [],
   "source": [
    "df['RepPayRange'] = \"\"\n",
    "for index, value in df['MonthsInRepayment'].iteritems():\n",
    "    if value >= 0 and value < 48:\n",
    "        df.at[index, 'RepPayRange'] = '0-4yrs'\n",
    "    elif value >= 48 and value < 96:\n",
    "        df.at[index, 'RepPayRange'] = '4-8yrs'\n",
    "    elif value >= 96 and value < 144:\n",
    "        df.at[index, 'RepPayRange'] = '8-12yrs'\n",
    "    elif value >= 144 and value < 192:\n",
    "        df.at[index, 'RepPayRange'] = '12-16yrs'\n",
    "    elif value >= 192 and value < 240:\n",
    "        df.at[index, 'RepPayRange'] = '16-20yrs'\n",
    "    else:\n",
    "        df.at[index, 'RepPayRange'] = 'Invalid value'"
   ]
  },
  {
   "cell_type": "code",
   "execution_count": null,
   "id": "379c0aa2",
   "metadata": {},
   "outputs": [],
   "source": [
    "df[\"RepPayRange\"].value_counts()"
   ]
  },
  {
   "cell_type": "code",
   "execution_count": null,
   "id": "3cf6e606",
   "metadata": {},
   "outputs": [],
   "source": [
    "df['FirstPaymentDate'] = pd.to_datetime(df['FirstPaymentDate'],format='%Y%m')\n",
    "df['MaturityDate'] = pd.to_datetime(df['MaturityDate'], format='%Y%m')\n",
    "df['Month_Difference'] = (df['MaturityDate'].dt.to_period('M') - df['FirstPaymentDate'].dt.to_period('M')).apply(lambda x: x.n) "
   ]
  },
  {
   "cell_type": "code",
   "execution_count": null,
   "id": "bc602c5a",
   "metadata": {},
   "outputs": [],
   "source": [
    "def calculate_emi(OrigUPB, OrigInterestRate, OrigLoanTerm):\n",
    "    r = (OrigInterestRate / 12) / 100  # Convert annual interest rate to monthly rate\n",
    "    n = OrigLoanTerm  # Total number of monthly installments\n",
    "    \n",
    "    emi = (OrigUPB * r * (1 + r) ** n) / ((1 + r) ** n - 1)\n",
    "    return round(emi, 2)  # Round the EMI to 2 decimal places\n",
    "# Calculate EMI and create a new column for EMI\n",
    "df['monthly_payment'] = calculate_emi(df['OrigUPB'], df['OrigInterestRate'], df['OrigLoanTerm'])"
   ]
  },
  {
   "cell_type": "code",
   "execution_count": null,
   "id": "8a194112",
   "metadata": {},
   "outputs": [],
   "source": [
    "df[\"total_payment\"] = df['monthly_payment']*df[\"OrigLoanTerm\"]\n",
    "df['total_payment'] = df['total_payment'].round(2)\n",
    "df[\"interest_amount\"] = df[\"total_payment\"]-df[\"OrigUPB\"]\n",
    "df['interest_amount'] = df['interest_amount'].round(2)"
   ]
  },
  {
   "cell_type": "code",
   "execution_count": null,
   "id": "1870bb70",
   "metadata": {},
   "outputs": [],
   "source": [
    "df[\"monthly_income\"] = (df[\"monthly_payment\"]//df[\"DTI\"])* 100\n",
    "df['monthly_income'] = df['monthly_income'].round(2)"
   ]
  },
  {
   "cell_type": "code",
   "execution_count": null,
   "id": "42753425",
   "metadata": {},
   "outputs": [],
   "source": [
    "df[\"monthly_rate\"] = df[\"OrigInterestRate\"]/1200\n",
    "df['monthly_rate'] = df['monthly_rate'].round(4)"
   ]
  },
  {
   "cell_type": "code",
   "execution_count": null,
   "id": "9f861031",
   "metadata": {},
   "outputs": [],
   "source": [
    "def principle(monthly_rate,OrigUPB,monthly_payment,MonthsInRepayment):\n",
    "    for i in range(MonthsInRepayment):\n",
    "        interest = monthly_rate*OrigUPB\n",
    "        p=monthly_payment-interest\n",
    "    return round (p,2)\n",
    "    \n",
    "\n",
    "df[\"monthly_priciple amount\"] = np.vectorize(principle)(df[\"monthly_rate\"],df[\"OrigUPB\"],df[\"monthly_payment\"],df[\"MonthsInRepayment\"])"
   ]
  },
  {
   "cell_type": "code",
   "execution_count": null,
   "id": "683a2f2a",
   "metadata": {},
   "outputs": [],
   "source": [
    "def principle(monthly_rate,OrigUPB,monthly_payment,MonthsInRepayment):\n",
    "    remaining_principal = OrigUPB\n",
    "    for i in range(MonthsInRepayment):\n",
    "        interest = monthly_rate*OrigUPB\n",
    "        p=monthly_payment-interest\n",
    "        remaining_principal =  remaining_principal- p\n",
    "    return round (remaining_principal,2)\n",
    "    \n",
    "\n",
    "df[\"principal_amount_remaining\"] = np.vectorize(principle)(df[\"monthly_rate\"],df[\"OrigUPB\"],df[\"monthly_payment\"],df[\"MonthsInRepayment\"])"
   ]
  },
  {
   "cell_type": "code",
   "execution_count": null,
   "id": "2a4be1bd",
   "metadata": {},
   "outputs": [],
   "source": [
    "def principle(monthly_rate,OrigUPB,monthly_payment,MonthsInRepayment):\n",
    "    remaining_principal = OrigUPB\n",
    "    for i in range(MonthsInRepayment):\n",
    "        interest = monthly_rate*OrigUPB\n",
    "        p=monthly_payment-interest\n",
    "        remaining_principal =  remaining_principal- p\n",
    "        priciple_amount_paid = OrigUPB - remaining_principal\n",
    "    return round (priciple_amount_paid,2)\n",
    "    \n",
    "\n",
    "df[\"priciple_amount_paid\"] = np.vectorize(principle)(df[\"monthly_rate\"],df[\"OrigUPB\"],df[\"monthly_payment\"],df[\"MonthsInRepayment\"])"
   ]
  },
  {
   "cell_type": "code",
   "execution_count": null,
   "id": "21e5ffb2",
   "metadata": {},
   "outputs": [],
   "source": [
    "df.head()"
   ]
  },
  {
   "cell_type": "code",
   "execution_count": null,
   "id": "6fc71736",
   "metadata": {},
   "outputs": [],
   "source": [
    "def prepay(dti,income):\n",
    "    if(dti<40):\n",
    "        p=income/2\n",
    "    else:\n",
    "        p=income*3/4\n",
    "    return p\n",
    "df[\"prepayment\"]=np.vectorize(prepay)(df[\"DTI\"],df[\"monthly_income\"]*24)\n",
    "df[\"prepayment\"]=df[\"prepayment\"]-(df[\"monthly_payment\"]*24)"
   ]
  },
  {
   "cell_type": "markdown",
   "id": "c3da8687",
   "metadata": {},
   "source": [
    "VISUALIZING"
   ]
  },
  {
   "cell_type": "code",
   "execution_count": null,
   "id": "043b7407",
   "metadata": {},
   "outputs": [],
   "source": [
    "plt.figure(figsize=(6,4))\n",
    "sns.countplot(x='aFirstTimeHomebuyer' , data=df)\n",
    "plt.xlabel('First Time Homebuyer')\n",
    "plt.show()"
   ]
  },
  {
   "cell_type": "code",
   "execution_count": null,
   "id": "fbefce1c",
   "metadata": {},
   "outputs": [],
   "source": [
    "plt.figure(figsize=(6,4))\n",
    "sns.countplot(x='Occupancy' , data=df)\n",
    "plt.xlabel('Occupancy')\n",
    "plt.show()"
   ]
  },
  {
   "cell_type": "code",
   "execution_count": null,
   "id": "0cbbf083",
   "metadata": {},
   "outputs": [],
   "source": [
    "plt.figure(figsize=(6,4))\n",
    "sns.countplot(x='Channel' , data=df)\n",
    "plt.xlabel('Channel', fontsize=14)\n",
    "plt.show()"
   ]
  },
  {
   "cell_type": "code",
   "execution_count": null,
   "id": "265703bc",
   "metadata": {},
   "outputs": [],
   "source": [
    "plt.figure(figsize=(6,4))\n",
    "sns.countplot(x='PPM' , data=df)\n",
    "plt.xlabel('PPM')\n",
    "plt.show()"
   ]
  },
  {
   "cell_type": "code",
   "execution_count": null,
   "id": "de47189d",
   "metadata": {},
   "outputs": [],
   "source": [
    "plt.figure(figsize=(25,5))\n",
    "sns.countplot(x='ServicerName', data=df)\n",
    "plt.xlabel('ServicerName')\n",
    "plt.xticks(rotation='vertical')\n",
    "plt.show()"
   ]
  },
  {
   "cell_type": "code",
   "execution_count": null,
   "id": "04be0044",
   "metadata": {},
   "outputs": [],
   "source": [
    "plt.figure(figsize=(6,3))\n",
    "sns.countplot(x='PropertyType' , data=df)\n",
    "plt.xlabel('PropertyType', fontsize=14)\n",
    "plt.show()"
   ]
  },
  {
   "cell_type": "code",
   "execution_count": null,
   "id": "1decf152",
   "metadata": {},
   "outputs": [],
   "source": [
    "plt.figure(figsize=(6,3))\n",
    "sns.countplot(x='NumBorrowers' , data=df)\n",
    "plt.xlabel('NumBorrowers', fontsize=14)\n",
    "plt.show()"
   ]
  },
  {
   "cell_type": "code",
   "execution_count": null,
   "id": "962d485a",
   "metadata": {},
   "outputs": [],
   "source": [
    "plt.figure(figsize=(16,3))\n",
    "sns.countplot(x='ServicerName', data=df)\n",
    "plt.xlabel('ServicerName')\n",
    "plt.xticks(rotation='vertical')\n",
    "plt.show()"
   ]
  },
  {
   "cell_type": "code",
   "execution_count": null,
   "id": "1c1155b6",
   "metadata": {},
   "outputs": [],
   "source": [
    "plt.figure(figsize=(10,5))\n",
    "sns.barplot(x='aFirstTimeHomebuyer' ,y='EverDelinquent', data=df)\n",
    "plt.xlabel('FirstTimeHomebuyer', fontsize=14)\n",
    "plt.ylabel('EverDelinquent',fontsize=14)\n",
    "plt.legend()\n",
    "plt.show()"
   ]
  },
  {
   "cell_type": "markdown",
   "id": "ecff74ff",
   "metadata": {},
   "source": [
    "ENCODING"
   ]
  },
  {
   "cell_type": "code",
   "execution_count": null,
   "id": "a5d052f6",
   "metadata": {},
   "outputs": [],
   "source": [
    "encoder=LabelEncoder()"
   ]
  },
  {
   "cell_type": "code",
   "execution_count": null,
   "id": "802abb9d",
   "metadata": {},
   "outputs": [],
   "source": [
    "df['PPM']= encoder.fit_transform(df['PPM'])\n",
    "df['LoanPurpose']= encoder.fit_transform(df['LoanPurpose'])\n",
    "df['PropertyState']= encoder.fit_transform(df['PropertyState'])\n",
    "df['ServicerName']= encoder.fit_transform(df['ServicerName'])\n",
    "df['PropertyType']= encoder.fit_transform(df['PropertyType'])\n",
    "df['Channel']= encoder.fit_transform(df['Channel'])\n",
    "df['SellerName']= encoder.fit_transform(df['SellerName'])\n",
    "df['LTV_Range']= encoder.fit_transform(df['LTV_Range'])\n",
    "df['DTI_Range']= encoder.fit_transform(df['DTI_Range'])\n",
    "df['CreditRange']= encoder.fit_transform(df['CreditRange'])\n",
    "df['MIP_Range']= encoder.fit_transform(df['MIP_Range'])\n",
    "df['RepPayRange']= encoder.fit_transform(df['RepPayRange'])\n",
    "df['Month_Difference']= encoder.fit_transform(df['Month_Difference'])"
   ]
  },
  {
   "cell_type": "code",
   "execution_count": null,
   "id": "d5ba3134",
   "metadata": {},
   "outputs": [],
   "source": [
    "df_city = pd.get_dummies(df['Occupancy'],drop_first = True)"
   ]
  },
  {
   "cell_type": "code",
   "execution_count": null,
   "id": "ad59fc38",
   "metadata": {},
   "outputs": [],
   "source": [
    "df=pd.concat([df,df_city],axis=1)"
   ]
  },
  {
   "cell_type": "code",
   "execution_count": null,
   "id": "5bd741fb",
   "metadata": {},
   "outputs": [],
   "source": [
    "df.drop('Occupancy',axis=1,inplace=True)"
   ]
  },
  {
   "cell_type": "code",
   "execution_count": null,
   "id": "c888c656",
   "metadata": {},
   "outputs": [],
   "source": [
    "df.head()"
   ]
  },
  {
   "cell_type": "code",
   "execution_count": null,
   "id": "b9f54c69",
   "metadata": {},
   "outputs": [],
   "source": [
    "df.drop(['PostalCode','LoanSeqNum',\"ProductType\"],axis=1, inplace=True)"
   ]
  },
  {
   "cell_type": "code",
   "execution_count": null,
   "id": "e9329016",
   "metadata": {},
   "outputs": [],
   "source": [
    "df.drop(['FirstTimeHomebuyer',\"DTI\",\"LTV\",'MIP','MonthsInRepayment',\"CreditScore\",\"FirstPaymentDate\",\"MaturityDate\"],axis=1, inplace=True)"
   ]
  },
  {
   "cell_type": "markdown",
   "id": "123ba519",
   "metadata": {},
   "source": [
    "FEATURE ENGINEERING"
   ]
  },
  {
   "cell_type": "code",
   "execution_count": null,
   "id": "288ad50b",
   "metadata": {},
   "outputs": [],
   "source": [
    "x=df.drop(\"prepayment\",axis=1)\n",
    "y=df[\"prepayment\"]\n",
    "vif = pd.DataFrame()\n",
    "vif['Features'] = x.columns\n",
    "vif['VIF'] = [variance_inflation_factor(x.values, i) for i in range(x.shape[1])]\n",
    "print(vif)"
   ]
  },
  {
   "cell_type": "code",
   "execution_count": null,
   "id": "94ab42f9",
   "metadata": {},
   "outputs": [],
   "source": [
    "X1=x.drop(\"OrigLoanTerm\",axis=1)"
   ]
  },
  {
   "cell_type": "code",
   "execution_count": null,
   "id": "04a525c3",
   "metadata": {},
   "outputs": [],
   "source": [
    "vif = pd.DataFrame()\n",
    "vif['Features'] = X1.columns\n",
    "vif['VIF'] = [variance_inflation_factor(X1.values, i) for i in range(X1.shape[1])]\n",
    "\n",
    "print(vif)"
   ]
  },
  {
   "cell_type": "code",
   "execution_count": null,
   "id": "e29dad12",
   "metadata": {},
   "outputs": [],
   "source": [
    "X2=X1.drop(\"Month_Difference\",axis=1)"
   ]
  },
  {
   "cell_type": "code",
   "execution_count": null,
   "id": "4f1d0ea0",
   "metadata": {},
   "outputs": [],
   "source": [
    "vif = pd.DataFrame()\n",
    "vif['Features'] = X2.columns\n",
    "vif['VIF'] = [variance_inflation_factor(X2.values, i) for i in range(X2.shape[1])]\n",
    "print(vif)"
   ]
  },
  {
   "cell_type": "code",
   "execution_count": null,
   "id": "5786ab0f",
   "metadata": {},
   "outputs": [],
   "source": [
    "X3=X2.drop(\"OCLTV\",axis=1)"
   ]
  },
  {
   "cell_type": "code",
   "execution_count": null,
   "id": "d5685e99",
   "metadata": {},
   "outputs": [],
   "source": [
    "vif = pd.DataFrame()\n",
    "vif['Features'] = X3.columns\n",
    "vif['VIF'] = [variance_inflation_factor(X3.values, i) for i in range(X3.shape[1])]\n",
    "print(vif)"
   ]
  },
  {
   "cell_type": "code",
   "execution_count": null,
   "id": "bbd4ed6b",
   "metadata": {},
   "outputs": [],
   "source": [
    "X4=X3.drop(\"OrigInterestRate\",axis=1)"
   ]
  },
  {
   "cell_type": "code",
   "execution_count": null,
   "id": "3aa39f01",
   "metadata": {},
   "outputs": [],
   "source": [
    "vif = pd.DataFrame()\n",
    "vif['Features'] = X4.columns\n",
    "vif['VIF'] = [variance_inflation_factor(X4.values, i) for i in range(X4.shape[1])]\n",
    "print(vif)"
   ]
  },
  {
   "cell_type": "code",
   "execution_count": null,
   "id": "fee3c19e",
   "metadata": {},
   "outputs": [],
   "source": [
    "X5=X4.drop(\"O\",axis=1)"
   ]
  },
  {
   "cell_type": "code",
   "execution_count": null,
   "id": "35725ab1",
   "metadata": {},
   "outputs": [],
   "source": [
    "vif = pd.DataFrame()\n",
    "vif['Features'] = X5.columns\n",
    "vif['VIF'] = [variance_inflation_factor(X5.values, i) for i in range(X5.shape[1])]\n",
    "print(vif)"
   ]
  },
  {
   "cell_type": "code",
   "execution_count": null,
   "id": "37c22ca0",
   "metadata": {},
   "outputs": [],
   "source": [
    "X6=X5.drop(\"Units\",axis=1)"
   ]
  },
  {
   "cell_type": "code",
   "execution_count": null,
   "id": "5608f9d1",
   "metadata": {},
   "outputs": [],
   "source": [
    "vif = pd.DataFrame()\n",
    "vif['Features'] = X6.columns\n",
    "vif['VIF'] = [variance_inflation_factor(X6.values, i) for i in range(X6.shape[1])]\n",
    "print(vif)"
   ]
  },
  {
   "cell_type": "code",
   "execution_count": null,
   "id": "4d216793",
   "metadata": {},
   "outputs": [],
   "source": [
    "X7=X6.drop(\"Channel\",axis=1)"
   ]
  },
  {
   "cell_type": "code",
   "execution_count": null,
   "id": "8cbe62ca",
   "metadata": {},
   "outputs": [],
   "source": [
    "vif = pd.DataFrame()\n",
    "vif['Features'] = X7.columns\n",
    "vif['VIF'] = [variance_inflation_factor(X7.values, i) for i in range(X7.shape[1])]\n",
    "print(vif)"
   ]
  },
  {
   "cell_type": "code",
   "execution_count": null,
   "id": "c98748d3",
   "metadata": {},
   "outputs": [],
   "source": [
    "X8=X7.drop(\"PropertyType\",axis=1)"
   ]
  },
  {
   "cell_type": "code",
   "execution_count": null,
   "id": "24743d54",
   "metadata": {},
   "outputs": [],
   "source": [
    "vif = pd.DataFrame()\n",
    "vif['Features'] = X8.columns\n",
    "vif['VIF'] = [variance_inflation_factor(X8.values, i) for i in range(X8.shape[1])]\n",
    "print(vif)"
   ]
  },
  {
   "cell_type": "code",
   "execution_count": null,
   "id": "eb1d4e4b",
   "metadata": {},
   "outputs": [],
   "source": [
    "X9=X8.drop(\"NumBorrowers\",axis=1)"
   ]
  },
  {
   "cell_type": "code",
   "execution_count": null,
   "id": "c39ca141",
   "metadata": {},
   "outputs": [],
   "source": [
    "vif = pd.DataFrame()\n",
    "vif['Features'] = X9.columns\n",
    "vif['VIF'] = [variance_inflation_factor(X9.values, i) for i in range(X9.shape[1])]\n",
    "print(vif)"
   ]
  },
  {
   "cell_type": "code",
   "execution_count": null,
   "id": "0b5b0e33",
   "metadata": {},
   "outputs": [],
   "source": [
    "X10=X9.drop(\"MIP_Range\",axis=1)"
   ]
  },
  {
   "cell_type": "code",
   "execution_count": null,
   "id": "5b750a0b",
   "metadata": {},
   "outputs": [],
   "source": [
    "vif = pd.DataFrame()\n",
    "vif['Features'] = X10.columns\n",
    "vif['VIF'] = [variance_inflation_factor(X10.values, i) for i in range(X10.shape[1])]\n",
    "print(vif)"
   ]
  },
  {
   "cell_type": "code",
   "execution_count": null,
   "id": "cfec331a",
   "metadata": {},
   "outputs": [],
   "source": [
    "scaler = StandardScaler()\n",
    "scaler_fit = scaler.fit_transform(X10)\n",
    "X=pd.DataFrame(scaler_fit, columns = X10.columns)"
   ]
  },
  {
   "cell_type": "code",
   "execution_count": null,
   "id": "07e405f0",
   "metadata": {},
   "outputs": [],
   "source": [
    "X"
   ]
  },
  {
   "cell_type": "code",
   "execution_count": null,
   "id": "32313cd6",
   "metadata": {},
   "outputs": [],
   "source": [
    "pca = PCA()\n",
    "pca.fit_transform(X)"
   ]
  },
  {
   "cell_type": "code",
   "execution_count": null,
   "id": "3dfc8699",
   "metadata": {},
   "outputs": [],
   "source": [
    "principalComponents = pca.fit_transform(X)"
   ]
  },
  {
   "cell_type": "code",
   "execution_count": null,
   "id": "04efb511",
   "metadata": {},
   "outputs": [],
   "source": [
    "plt.figure()\n",
    "plt.plot(np.cumsum(pca.explained_variance_ratio_))\n",
    "plt.xlabel('Number of Components')\n",
    "plt.ylabel('Variance (%)') #for each component\n",
    "plt.title('Explained Variance')\n",
    "plt.show();"
   ]
  },
  {
   "cell_type": "code",
   "execution_count": null,
   "id": "3a9bb1c1",
   "metadata": {},
   "outputs": [],
   "source": [
    "new_data = pd.DataFrame(principalComponents)"
   ]
  },
  {
   "cell_type": "code",
   "execution_count": null,
   "id": "53804fbe",
   "metadata": {},
   "outputs": [],
   "source": [
    "pca = PCA(n_components=12)\n",
    "final_data = pca.fit_transform(new_data)\n",
    "principal_Df = pd.DataFrame(data = final_data\n",
    "             , columns = ['PC1','PC2','PC3','PC4','PC5','PC6','PC7','PC8','PC9','PC10','PC11','PC12'])"
   ]
  },
  {
   "cell_type": "code",
   "execution_count": null,
   "id": "ece5f6f4",
   "metadata": {},
   "outputs": [],
   "source": [
    "principal_Df"
   ]
  },
  {
   "cell_type": "code",
   "execution_count": null,
   "id": "10db3a0b",
   "metadata": {},
   "outputs": [],
   "source": [
    "X = principal_Df\n",
    "Y = df[\"EverDelinquent\"]"
   ]
  },
  {
   "cell_type": "markdown",
   "id": "da087e63",
   "metadata": {},
   "source": [
    "SPLITTING"
   ]
  },
  {
   "cell_type": "code",
   "execution_count": null,
   "id": "ac39098d",
   "metadata": {},
   "outputs": [],
   "source": [
    "X_train,X_test,Y_train,Y_test = train_test_split(X,Y, test_size=0.3, random_state=42)"
   ]
  },
  {
   "cell_type": "markdown",
   "id": "eb9c8c18",
   "metadata": {},
   "source": [
    "MODELING"
   ]
  },
  {
   "cell_type": "code",
   "execution_count": null,
   "id": "75d442fa",
   "metadata": {},
   "outputs": [],
   "source": [
    "lr = LogisticRegression()\n",
    "lr.fit(X_train,Y_train)\n",
    "Y_pred = lr.predict(X_test)"
   ]
  },
  {
   "cell_type": "code",
   "execution_count": null,
   "id": "b8a18a5d",
   "metadata": {},
   "outputs": [],
   "source": [
    "print(accuracy_score(Y_train,lr.predict(X_train)))"
   ]
  },
  {
   "cell_type": "code",
   "execution_count": null,
   "id": "5e5fcb85",
   "metadata": {},
   "outputs": [],
   "source": [
    "print('accuracy score using logistic regression',accuracy_score(Y_test,Y_pred))\n"
   ]
  },
  {
   "cell_type": "code",
   "execution_count": null,
   "id": "23a48ea5",
   "metadata": {},
   "outputs": [],
   "source": [
    "print('classification report',classification_report(Y_test,Y_pred))\n"
   ]
  },
  {
   "cell_type": "code",
   "execution_count": null,
   "id": "acc0f476",
   "metadata": {},
   "outputs": [],
   "source": [
    "rfc = RandomForestClassifier()\n",
    "rfc.fit(X_train,Y_train)"
   ]
  },
  {
   "cell_type": "code",
   "execution_count": null,
   "id": "f9b60714",
   "metadata": {},
   "outputs": [],
   "source": [
    "accuracy_score(Y_train,rfc.predict(X_train))"
   ]
  },
  {
   "cell_type": "code",
   "execution_count": null,
   "id": "57042e17",
   "metadata": {},
   "outputs": [],
   "source": [
    "print('accuracy score using random forest model',accuracy_score(Y_test, rfc.predict(X_test)))"
   ]
  },
  {
   "cell_type": "code",
   "execution_count": null,
   "id": "832bbb29",
   "metadata": {},
   "outputs": [],
   "source": [
    "print('classification report', classification_report(Y_test, rfc.predict(X_test)))"
   ]
  }
 ],
 "metadata": {
  "kernelspec": {
   "display_name": "Python 3 (ipykernel)",
   "language": "python",
   "name": "python3"
  },
  "language_info": {
   "codemirror_mode": {
    "name": "ipython",
    "version": 3
   },
   "file_extension": ".py",
   "mimetype": "text/x-python",
   "name": "python",
   "nbconvert_exporter": "python",
   "pygments_lexer": "ipython3",
   "version": "3.9.13"
  }
 },
 "nbformat": 4,
 "nbformat_minor": 5
}
